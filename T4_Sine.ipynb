{
 "cells": [
  {
   "cell_type": "markdown",
   "metadata": {},
   "source": [
    "# A model to learn the `sine` function\n",
    "\n",
    "The goal of this task is to develop a QML model and use it to learn the sine function on the primary interval $[0, 2\\pi]$ and reproduce the values of the sine function."
   ]
  },
  {
   "cell_type": "markdown",
   "metadata": {},
   "source": [
    "A simple outline of the procedure that will be followed:\n",
    "\n",
    "1. Discretizing the primary interval and use these data-points as labels for the `sine` function.\n",
    "2. Implement a QML (in this case, we will implement a variational quantum circuit) model which reproduces the values of the `sine` function. "
   ]
  },
  {
   "cell_type": "markdown",
   "metadata": {},
   "source": [
    "## Installing and Importing the required libraries"
   ]
  },
  {
   "cell_type": "code",
   "execution_count": 1,
   "metadata": {},
   "outputs": [],
   "source": [
    "# %pip install pennylane"
   ]
  },
  {
   "cell_type": "code",
   "execution_count": 2,
   "metadata": {},
   "outputs": [],
   "source": [
    "import pennylane as qml\n",
    "from pennylane import numpy as np\n",
    "import matplotlib.pyplot as plt"
   ]
  },
  {
   "cell_type": "markdown",
   "metadata": {},
   "source": [
    "## Discretization"
   ]
  },
  {
   "cell_type": "markdown",
   "metadata": {},
   "source": [
    "Discretizing the interval $[0, 2\\pi]$ with $\\text{num\\_points} = 100$"
   ]
  },
  {
   "cell_type": "code",
   "execution_count": 3,
   "metadata": {},
   "outputs": [],
   "source": [
    "num_points = 25\n",
    "x_label = np.linspace(0, 2*np.pi, num_points)\n",
    "y_label = np.sin(x_label)"
   ]
  },
  {
   "cell_type": "markdown",
   "metadata": {},
   "source": [
    "## Quantum Machine Learning Model"
   ]
  },
  {
   "cell_type": "code",
   "execution_count": 4,
   "metadata": {},
   "outputs": [],
   "source": [
    "num_qubits = 1\n",
    "num_layers = 3"
   ]
  },
  {
   "cell_type": "code",
   "execution_count": 5,
   "metadata": {},
   "outputs": [],
   "source": [
    "dev = qml.device(\"default.qubit\", wires=num_qubits)"
   ]
  },
  {
   "cell_type": "markdown",
   "metadata": {},
   "source": [
    "### Variational Quantum Circuit"
   ]
  },
  {
   "cell_type": "code",
   "execution_count": 6,
   "metadata": {},
   "outputs": [],
   "source": [
    "@qml.qnode(dev)\n",
    "def qc(params, x):\n",
    "    qml.RX(x, wires=0)\n",
    "    for i in range(num_layers):\n",
    "        qml.RY(params[i], wires=0)\n",
    "        qml.RZ(params[i + num_layers], wires=0)\n",
    "    return qml.expval(qml.PauliZ(0))"
   ]
  },
  {
   "cell_type": "markdown",
   "metadata": {},
   "source": [
    "### Initializing the parameters"
   ]
  },
  {
   "cell_type": "code",
   "execution_count": 7,
   "metadata": {},
   "outputs": [],
   "source": [
    "params = np.random.random(2 * num_layers, requires_grad=True)"
   ]
  },
  {
   "cell_type": "markdown",
   "metadata": {},
   "source": [
    "### Cost Function"
   ]
  },
  {
   "cell_type": "code",
   "execution_count": 8,
   "metadata": {},
   "outputs": [],
   "source": [
    "def cost(params, x_values, y_values):\n",
    "    predictions = [qc(params, x) for x in x_values]\n",
    "    return np.mean((np.array(predictions) - y_values) ** 2)"
   ]
  },
  {
   "cell_type": "markdown",
   "metadata": {},
   "source": [
    "### Training the Model"
   ]
  },
  {
   "cell_type": "code",
   "execution_count": 9,
   "metadata": {},
   "outputs": [
    {
     "name": "stdout",
     "output_type": "stream",
     "text": [
      "Epoch 1/2\n",
      "Step 1/25 - Cost: 1.353396997229381\n",
      "Step 2/25 - Cost: 1.2787158907302791\n",
      "Step 3/25 - Cost: 1.21050231070399\n",
      "Step 4/25 - Cost: 1.1492731632156967\n",
      "Step 5/25 - Cost: 1.0943294953699738\n",
      "Step 6/25 - Cost: 1.0441397056689354\n",
      "Step 7/25 - Cost: 0.9966538100877148\n",
      "Step 8/25 - Cost: 0.9494948892298738\n",
      "Step 9/25 - Cost: 0.9000643996839223\n",
      "Step 10/25 - Cost: 0.8456466249478797\n",
      "Step 11/25 - Cost: 0.783625153448146\n",
      "Step 12/25 - Cost: 0.711930000481856\n",
      "Step 13/25 - Cost: 0.629773816651877\n",
      "Step 14/25 - Cost: 0.5385368090854974\n",
      "Step 15/25 - Cost: 0.4423248167195571\n",
      "Step 16/25 - Cost: 0.34751974761108867\n",
      "Step 17/25 - Cost: 0.26105124540122543\n",
      "Step 18/25 - Cost: 0.18815052451544192\n",
      "Step 19/25 - Cost: 0.13096724182732447\n",
      "Step 20/25 - Cost: 0.08873882394761093\n",
      "Step 21/25 - Cost: 0.0589738216477276\n",
      "Step 22/25 - Cost: 0.038690368649463486\n",
      "Step 23/25 - Cost: 0.02518689613489746\n",
      "Step 24/25 - Cost: 0.016335949673847057\n",
      "Step 25/25 - Cost: 0.010592851764971436\n",
      "Epoch 0: Cost = 0.010592851764971436\n",
      "Epoch 2/2\n",
      "Step 1/25 - Cost: 0.0068900566150592426\n",
      "Step 2/25 - Cost: 0.004511968592755693\n",
      "Step 3/25 - Cost: 0.0029879700953934296\n",
      "Step 4/25 - Cost: 0.00201222833782145\n",
      "Step 5/25 - Cost: 0.001387476515731471\n",
      "Step 6/25 - Cost: 0.000987066414580938\n",
      "Step 7/25 - Cost: 0.0007299221115351698\n",
      "Step 8/25 - Cost: 0.0005642323874200876\n",
      "Step 9/25 - Cost: 0.00045692154425604404\n",
      "Step 10/25 - Cost: 0.0003868862924936964\n",
      "Step 11/25 - Cost: 0.00034066555461757954\n",
      "Step 12/25 - Cost: 0.00030967340280343275\n",
      "Step 13/25 - Cost: 0.0002884329248145337\n",
      "Step 14/25 - Cost: 0.0002734496996567613\n",
      "Step 15/25 - Cost: 0.00026249349069928024\n",
      "Step 16/25 - Cost: 0.0002541402909533826\n",
      "Step 17/25 - Cost: 0.00024748035401614133\n",
      "Step 18/25 - Cost: 0.0002419320320080595\n",
      "Step 19/25 - Cost: 0.00023712305914453318\n",
      "Step 20/25 - Cost: 0.00023281483138386193\n",
      "Step 21/25 - Cost: 0.00022885409962840678\n",
      "Step 22/25 - Cost: 0.00022514214449307626\n",
      "Step 23/25 - Cost: 0.00022161510133611621\n",
      "Step 24/25 - Cost: 0.00021823139884792497\n",
      "Step 25/25 - Cost: 0.00021496373695856967\n",
      "Epoch 1: Cost = 0.00021496373695856967\n",
      "Training successfully completed!!\n"
     ]
    }
   ],
   "source": [
    "opt = qml.GradientDescentOptimizer(stepsize=0.1) # Gradient descent optimizer\n",
    "\n",
    "epochs = 2 # Number of iterations of the optimization loop\n",
    "\n",
    "for epoch in range(epochs):\n",
    "    print(f\"Epoch {epoch + 1}/{epochs}\")\n",
    "    for i, x in enumerate(x_label):\n",
    "        params, cost_val = opt.step_and_cost(lambda v: cost(v, x_label, y_label), params)\n",
    "        print(f\"Step {i + 1}/{len(x_label)} - Cost: {cost_val}\")\n",
    "\n",
    "    print(f\"Epoch {epoch}: Cost = {cost_val}\")\n",
    "\n",
    "print(\"Training successfully completed!!\")"
   ]
  },
  {
   "cell_type": "markdown",
   "metadata": {},
   "source": [
    "## Results"
   ]
  },
  {
   "cell_type": "code",
   "execution_count": 10,
   "metadata": {},
   "outputs": [
    {
     "data": {
      "image/png": "[encoded data removed]",
      "text/plain": [
       "<Figure size 640x480 with 1 Axes>"
      ]
     },
     "metadata": {},
     "output_type": "display_data"
    }
   ],
   "source": [
    "preds = [qc(params, x) for x in x_label]\n",
    "\n",
    "# Plot the results\n",
    "plt.plot(x_label, y_label, label=\"Exact Sine\")\n",
    "plt.plot(x_label, preds, 'o-', label=\"QML Predicted Sine\")\n",
    "plt.legend()\n",
    "plt.show()"
   ]
  },
  {
   "cell_type": "markdown",
   "metadata": {},
   "source": [
    "## Summary\n",
    "\n",
    "In this task, we managed to develop our own QML model which reproduces/approximates the `sine` function by following the steps listed at the start of the notebook."
   ]
  },
  {
   "cell_type": "markdown",
   "metadata": {},
   "source": [
    "**&copy; Harsh Sanjay Roniyar, 2024**"
   ]
  }
 ],
 "metadata": {
  "kernelspec": {
   "display_name": "myenv_3_9",
   "language": "python",
   "name": "python3"
  },
  "language_info": {
   "codemirror_mode": {
    "name": "ipython",
    "version": 3
   },
   "file_extension": ".py",
   "mimetype": "text/x-python",
   "name": "python",
   "nbconvert_exporter": "python",
   "pygments_lexer": "ipython3",
   "version": "3.12.4"
  }
 },
 "nbformat": 4,
 "nbformat_minor": 2
}
